{
 "cells": [
  {
   "cell_type": "code",
   "execution_count": 1,
   "metadata": {},
   "outputs": [],
   "source": [
    "import os\n",
    "import moviepy.editor as mp\n",
    "import sys\n"
   ]
  },
  {
   "cell_type": "code",
   "execution_count": 2,
   "metadata": {},
   "outputs": [],
   "source": [
    "tmp_folder = 'tmp/'\n",
    "filename = 'video_youtube.mp4'#'test_meet.mp4'\n",
    "context = 'relgas del juego de mesa virus' #'reunión de trabajo entre el equipo de Datatouille y el equipo de DataPlatform'\n",
    "file_name_output = os.path.splitext(filename)[0]\n",
    "file_name_mp3 = os.path.join(tmp_folder, file_name_output + '.mp3')\n",
    "file_name_compress_mp3 = os.path.join(tmp_folder, file_name_output + '_compress.mp3')\n",
    "file_name_txt = os.path.join(tmp_folder, file_name_output + '.txt')\n",
    "audio_language = 'es' #'en' https://en.wikipedia.org/wiki/List_of_ISO_639_language_codes\n",
    "summary_language = 'Spanish'"
   ]
  },
  {
   "cell_type": "code",
   "execution_count": 6,
   "metadata": {},
   "outputs": [
    {
     "name": "stderr",
     "output_type": "stream",
     "text": [
      "                                                                    \n",
      "chunk:   0%|          | 35/9572 [00:49<3:45:50,  1.42s/it, now=None]"
     ]
    },
    {
     "name": "stdout",
     "output_type": "stream",
     "text": [
      "MoviePy - Writing audio in tmp/video_youtube.mp3\n"
     ]
    },
    {
     "name": "stderr",
     "output_type": "stream",
     "text": [
      "\n",
      "\u001b[A\n",
      "\u001b[A\n",
      "\u001b[A\n",
      "\u001b[A\n",
      "\u001b[A\n",
      "\u001b[A\n",
      "\u001b[A\n",
      "\u001b[A\n",
      "\u001b[A\n",
      "\u001b[A\n",
      "\u001b[A\n",
      "\u001b[A\n",
      "\u001b[A\n",
      "\u001b[A\n",
      "\u001b[A\n",
      "\u001b[A\n",
      "\u001b[A\n",
      "\u001b[A\n",
      "\u001b[A\n",
      "\u001b[A\n",
      "\u001b[A\n",
      "\u001b[A\n",
      "\u001b[A\n",
      "\u001b[A\n",
      "\u001b[A\n",
      "\u001b[A\n",
      "\u001b[A\n",
      "\u001b[A\n",
      "\u001b[A\n",
      "\u001b[A\n",
      "\u001b[A\n",
      "\u001b[A\n",
      "\u001b[A\n",
      "\u001b[A\n",
      "\u001b[A\n",
      "\u001b[A\n",
      "\u001b[A\n",
      "\u001b[A\n",
      "\u001b[A\n",
      "                                                                    \n",
      "chunk:   0%|          | 35/9572 [00:53<4:04:02,  1.54s/it, now=None]"
     ]
    },
    {
     "name": "stdout",
     "output_type": "stream",
     "text": [
      "MoviePy - Done.\n"
     ]
    }
   ],
   "source": [
    "my_clip = mp.VideoFileClip(filename=filename)\n",
    "my_clip.audio.write_audiofile(filename = file_name_mp3)\n"
   ]
  },
  {
   "cell_type": "code",
   "execution_count": 7,
   "metadata": {},
   "outputs": [
    {
     "name": "stdout",
     "output_type": "stream",
     "text": [
      "ffmpeg version 7.0.1 Copyright (c) 2000-2024 the FFmpeg developers\n",
      "  built with Apple clang version 15.0.0 (clang-1500.3.9.4)\n",
      "  configuration: --prefix=/usr/local/Cellar/ffmpeg/7.0.1 --enable-shared --enable-pthreads --enable-version3 --cc=clang --host-cflags= --host-ldflags='-Wl,-ld_classic' --enable-ffplay --enable-gnutls --enable-gpl --enable-libaom --enable-libaribb24 --enable-libbluray --enable-libdav1d --enable-libharfbuzz --enable-libjxl --enable-libmp3lame --enable-libopus --enable-librav1e --enable-librist --enable-librubberband --enable-libsnappy --enable-libsrt --enable-libssh --enable-libsvtav1 --enable-libtesseract --enable-libtheora --enable-libvidstab --enable-libvmaf --enable-libvorbis --enable-libvpx --enable-libwebp --enable-libx264 --enable-libx265 --enable-libxml2 --enable-libxvid --enable-lzma --enable-libfontconfig --enable-libfreetype --enable-frei0r --enable-libass --enable-libopencore-amrnb --enable-libopencore-amrwb --enable-libopenjpeg --enable-libspeex --enable-libsoxr --enable-libzmq --enable-libzimg --disable-libjack --disable-indev=jack --enable-videotoolbox --enable-audiotoolbox\n",
      "  libavutil      59.  8.100 / 59.  8.100\n",
      "  libavcodec     61.  3.100 / 61.  3.100\n",
      "  libavformat    61.  1.100 / 61.  1.100\n",
      "  libavdevice    61.  1.100 / 61.  1.100\n",
      "  libavfilter    10.  1.100 / 10.  1.100\n",
      "  libswscale      8.  1.100 /  8.  1.100\n",
      "  libswresample   5.  1.100 /  5.  1.100\n",
      "  libpostproc    58.  1.100 / 58.  1.100\n",
      "Input #0, mp3, from 'tmp/video_youtube.mp3':\n",
      "  Metadata:\n",
      "    encoder         : Lavf58.29.100\n",
      "  Duration: 00:07:14.13, start: 0.025057, bitrate: 128 kb/s\n",
      "  Stream #0:0: Audio: mp3 (mp3float), 44100 Hz, stereo, fltp, 128 kb/s\n",
      "      Metadata:\n",
      "        encoder         : Lavc58.54\n",
      "Stream mapping:\n",
      "  Stream #0:0 -> #0:0 (mp3 (mp3float) -> mp3 (libmp3lame))\n",
      "Press [q] to stop, [?] for help\n",
      "Output #0, mp3, to 'tmp/video_youtube_compress.mp3':\n",
      "  Metadata:\n",
      "    TSSE            : Lavf61.1.100\n",
      "  Stream #0:0: Audio: mp3, 16000 Hz, mono, fltp\n",
      "      Metadata:\n",
      "        encoder         : Lavc61.3.100 libmp3lame\n",
      "\u001b[1;35m[out#0/mp3 @ 0x7f87f0c12040] \u001b[0mvideo:0KiB audio:1272KiB subtitle:0KiB other streams:0KiB global headers:0KiB muxing overhead: 0.017197%\n",
      "size=    1272KiB time=00:07:14.10 bitrate=  24.0kbits/s speed= 302x    \n",
      "CPU times: user 61.4 ms, sys: 29.1 ms, total: 90.5 ms\n",
      "Wall time: 4.95 s\n"
     ]
    }
   ],
   "source": [
    "%%time\n",
    "!ffmpeg \\\n",
    "-i \"$file_name_mp3\" \\\n",
    "-ar 16000 \\\n",
    "-ac 1 \\\n",
    "-map 0:a: \\\n",
    "\"$file_name_compress_mp3\" \\\n",
    "-y\n",
    "\n"
   ]
  },
  {
   "cell_type": "code",
   "execution_count": 8,
   "metadata": {},
   "outputs": [],
   "source": [
    "file_size = os.path.getsize(file_name_compress_mp3)\n",
    "\n",
    "# 25MB en bytes\n",
    "size_limit = 25 * 1024 * 1024\n",
    "\n",
    "file_size_mb = round(file_size / (1024 * 1024))\n",
    "\n",
    "if file_size > size_limit:\n",
    "    print(f\"El fichero {filename} es más grande de 25MB ({file_size_mb}MB).\")\n",
    "    sys.exit(\"Tamaño máximo del fichero 25MB\")"
   ]
  },
  {
   "cell_type": "code",
   "execution_count": 9,
   "metadata": {},
   "outputs": [
    {
     "name": "stdout",
     "output_type": "stream",
     "text": [
      " Bienvenidos al vídeo de cómo se juega a virus. Si no habéis visto el vídeo de presentación, en la descripción os dejo un link que os llevará el vídeo. Veamos cómo se juega. La preparación del juego es muy sencilla, se cogen todas las cartas del juego, se barajan y se reparten 3 cartas a cada jugador En este caso vamos a realizar el ejemplo con 3 jugadores y colocaremos las cartas boca arriba para que las veáis El resto de cartas se quedan formando el mazo de robo con esto ya estaría preparado el juego. Se elige un jugador inicial, imaginemos este, y podríamos empezar a jugar. Vamos a explicar cómo funciona un turno. El jugador activo tiene dos opciones. Puede o jugar una de las cartas de su mano, o descartarse de cualquier cantidad de cartas que haya en su mano. Si decide, por ejemplo, jugar una carta de su mano, colocar el hueso en su cuerpo, habría realizado su acción. Al finalizar su turno debe robar tantas cartas del mazo como necesite para tener tres cartas en su mano. en este caso una y la colocaría en su mano pasaría el turno al siguiente jugador que debería hacer lo mismo decidir si va a jugar una carta de su mano o va a descartar tantas cartas como quiera en este caso el jugador no tiene ningún órgano en su mano y solo tiene medicinas para proteger sus órganos como no tiene ninguna carta que jugar podría decidir descartar toda su mano al pozo de descartes cogería su mano, la dejaría en el pozo de descartes y robaría hasta tener tres cartas en la mano en este caso robar tres cartas Una vez hemos visto c funcionan los turnos o jugar una carta o descartar tantas cartas como quieras vamos a ver las mec del juego El objetivo del juego es tener cuatro sanos sobre la mesa Esto se consigue coloc sobre la mesa delante de ti También tenemos un quinto órgano que es comodín, vale por cualquiera. Teniendo cuatro de ellos sanos sobre la mesa, habremos ganado la partida. pero esto no será tan fácil ya que también existen los virus cada virus infecta al órgano de su color esto quiere decir que este virus infectará a los corazones y este virus infectará a los estómagos el órgano multicolor puede ser infectado por cualquier virus si un órgano está infectado por un virus no cuenta para ganar la partida esto quiere decir que si un jugador tuviese sobre la mesa esto tendría cinco órganos pero solo dos de ellos están sanos por lo que no ganaría la partida para ganar debería de curarse dos virus y tener al menos cuatro órganos sanos. Si sobre un órgano que tiene un virus se coloca un segundo virus, habrá que extirpar ese órgano, por lo que tanto el órgano como los dos virus irán al pozo de descartes. También tenemos un virus multicolor que permite infectar cualquier órgano. ¿Y cómo podemos evitar que nos infecten? Pues mediante medicinas. Las medicinas también van asociadas con su color En este caso podríamos utilizar la medicina verde para quitarnos el virus verde Y los dos irían al pozo de Descartes También podemos utilizar las medicinas para vacunar un órgano antes de ser infectado Por ejemplo, podríamos jugar esta medicina amarilla sobre el hueso Y así evitaríamos el próximo virus que nos lanzasen sobre ese órgano También tenemos una medicina multicolor Que sirve para curar cualquier virus o para vacunar cualquier órgano Cabe decir que si vacunamos dos veces el mismo pasar a estar inmunizado Se colocar as las cartas giradas para mostrar que est inmunizado Los que est inmunizados ya no se pueden infectar por virus o no les pueden afectar ciertas cartas de tratamiento Luego las veremos Y por último decir que el virus multicolor se puede quitar con cualquiera de las medicinas, aunque no estén relacionadas con el órgano que esté infectado. Ahora vamos a ver los tratamientos Empezaremos por el trasplante El trasplante nos permite cambiar un órgano por el órgano de otro jugador Por ejemplo, si fuésemos este jugador podríamos cambiar el estómago por el estómago del otro jugador Ya que el nuestro está infectado No es necesario cambiar los mismos órganos mientras un jugador no tenga dos órganos iguales sobre su mesa En este caso podríamos cambiar estómago por estómago Pero no podríamos cambiar el corazón por su estómago Ya que nosotros quedaríamos con dos estómagos Cogeríamos todo esto, se lo pasaríamos al otro jugador y el otro jugador nos cedería su estómago sano y estaríamos más cerca de la victoria. También tenemos el ladrón de órganos. El ladrón nos permite coger un órgano de otro jugador y ponerlo en nuestro cuerpo. En este caso, si fuéramos este jugador, podríamos robar el corazón y ponerlo en nuestro cuerpo. Ya tendríamos tres órganos. No podríamos robar el estómago porque nosotros ya tenemos uno. La carta contagio nos permite pasar los virus de nuestros órganos a los órganos del resto de jugadores, siempre y cuando no estén ni vacunados ni con otro virus. Tienen que estar normales, sin ninguna otra carta sobre ellos. en este caso si este jugador jugase contagio podría pasar los virus de sus órganos, en este caso el del estómago a los órganos del resto de jugadores, en este caso este jugador tiene un estómago pues, ¡hala! infectado también tenemos el tratamiento cambio de cuerpo, esto permite cambiar todo tu cuerpo por el de otro jugador en este caso si fuésemos este jugador nos vendría de perlas darle nuestro órgano infectado por sus tres órganos que están sanos cogeríamos todas las cartas y las cambiaríamos Cabe destacar que si un est inmunizado tiene dos medicinas sobre no podr ser afectado por ninguno de estos tres tratamientos no podr ser trasplantado ni te lo podr robar ni podr enviarle virus Sin embargo ninguna inmunizaci te salva de que te cambien el cuerpo Da igual el n de que tengas inmunizados que si te lo cambian los perder por último tenemos los guantes de látex imaginemos que este jugador tiene la carta guantes de látex si decide utilizarla mandaría la carta de guantes de látex al pozo de descartes y todo el resto de jugadores tendrá que descartarse de su mano cogerían sus cartas y las mandarían al pozo de descartes al final del turno el jugador que ha jugado los guantes de látex robaría una carta le tocaría al siguiente jugador pero al no tener cartas en su mano pierde el turno y roba 3 cartas así con el resto de jugadores por lo que cuando se juega la carta de guantes de látex el resto de jugadores pierde el turno y le vuelve a tocar al jugador que ha jugado la carta gracias a que existe esta carta evitarás que la gente se quede en la mano todo el rato las cartas potentes y tenga que jugarlas porque si no en algún momento las perderá y con esto ya estarían explicadas todas las cartas del juego quiero enseñaros la carta célula madre y el efecto que nosotros le pusimos nosotros hicimos que esta carta se utilizase como si fuese dos medicinas en este caso por ejemplo podría jugarse sobre cualquier órgano y inmunizarlo de golpe por ejemplo lo podríamos utilizar sobre el hueso y haría una inmunización de golpe como si tuviese dos medicinas si se usase con un órgano que tiene un virus lo colocaríamos, quitaría el virus y además actuaría como una vacuna simple lo malo de hacer esta jugada es que te pueden quitar la célula madre, pero bueno, puede que te interese y hasta aquí la explicación de virus un juego sencillo con partidas cortitas que os permitirán jugar en cualquier momento pero cuidado el juego es tan contagioso que es probable que queráis jugar muchas partidas seguidas espero que os haya gustado el juego y nos vemos en el próximo vídeo un saludo desde not in my game\n"
     ]
    }
   ],
   "source": [
    "import os\n",
    "from groq import Groq\n",
    "\n",
    "client = Groq()\n",
    "filename = file_name_compress_mp3\n",
    "\n",
    "with open(filename, \"rb\") as file:\n",
    "    transcription = client.audio.transcriptions.create(\n",
    "      file=(filename, file.read()),\n",
    "      model=\"whisper-large-v3-turbo\",\n",
    "      response_format=\"json\", #verbose_json\", #Set to verbose_json to receive timestamps for audio segments. Set to text to return a text response.\n",
    "      prompt=context, #\"Specify context or spelling\",\n",
    "      language=audio_language,\n",
    "      temperature=0.0\n",
    "    )\n",
    "    print(transcription.text)\n"
   ]
  },
  {
   "cell_type": "code",
   "execution_count": 10,
   "metadata": {},
   "outputs": [],
   "source": [
    "output_filename = file_name_txt\n",
    "with open(output_filename, \"w\") as output_file:\n",
    "    output_file.write(transcription.text)"
   ]
  },
  {
   "cell_type": "code",
   "execution_count": 11,
   "metadata": {},
   "outputs": [],
   "source": [
    "with open(file_name_txt, \"r\") as file:\n",
    "    transcript = file.read()"
   ]
  },
  {
   "cell_type": "code",
   "execution_count": 12,
   "metadata": {},
   "outputs": [
    {
     "name": "stdout",
     "output_type": "stream",
     "text": [
      "<sketchpad>\n",
      "<decision>Explicar cómo se juega al juego de cartas \"Virus\"</decision>\n",
      "<action_item>Preparar el juego: barajar y repartir 3 cartas a cada jugador</action_item>\n",
      "<owner>Jugador inicial</owner>\n",
      "<action_item>Explicar las opciones de un turno: jugar una carta o descartar cartas</action_item>\n",
      "<action_item>Explicar el objetivo del juego: tener 4 órganos sanos en la mesa</action_item>\n",
      "<action_item>Explicar los virus y cómo infectan los órganos</action_item>\n",
      "<action_item>Explicar las medicinas y cómo se pueden usar para curar o vacunar los órganos</action_item>\n",
      "<action_item>Explicar los tratamientos especiales: trasplante, robo de órganos, contagio y cambio de cuerpo</action_item>\n",
      "<action_item>Explicar la carta \"Guantes de látex\" y su efecto</action_item>\n",
      "<action_item>Explicar la carta \"Célula madre\" y su efecto</action_item>\n",
      "</sketchpad>\n",
      "\n",
      "<summary>\n",
      "En el vídeo se explica cómo se juega al juego de cartas \"Virus\". Se describe la preparación del juego, repartiendo 3 cartas a cada jugador. Luego se explican las opciones de un turno: jugar una carta o descartar cartas. \n",
      "\n",
      "El objetivo del juego es tener 4 órganos sanos en la mesa. Sin embargo, existen los virus que pueden infectar los órganos. Para evitar la infección, se pueden usar medicinas que curan o vacunan los órganos.\n",
      "\n",
      "Además, existen tratamientos especiales como el trasplante, el robo de órganos, el contagio y el cambio de cuerpo. También se explica la carta \"Guantes de látex\", que hace que los demás jugadores pierdan su turno, y la carta \"Célula madre\", que puede inmunizar un órgano de golpe.\n",
      "\n",
      "En general, se trata de un juego sencillo pero con mecánicas interesantes que permiten partidas cortas y divertidas.\n",
      "</summary>\n"
     ]
    }
   ],
   "source": [
    "from pprint import pprint\n",
    "from bedrock_client import BedrockClient\n",
    "\n",
    "MODEL_ID = \"anthropic.claude-3-haiku-20240307-v1:0\"\n",
    "# MODEL_ID = \"anthropic.claude-3-sonnet-20240229-v1:0\"\n",
    "# MODEL_ID = \"anthropic.claude-3-5-sonnet-20240620-v1:0\"\n",
    "BedrockClient = BedrockClient()\n",
    "\n",
    "SUMARIZATION_PROMPT=f\"\"\"You are responsible for accurately summarizing the meeting <transcript>.\n",
    "\n",
    "<transcript>\n",
    "{transcript}\n",
    "</transcript>\n",
    "\n",
    "Think step by step on how to summarize the <transcript> within the provided <sketchpad>.\n",
    "\n",
    "In the <sketchpad>, return a list of <decision>, <action_item>, and <owner>.\n",
    "\n",
    "Then, check that <sketchpad> items are factually consistent with the <transcript>.\n",
    "\n",
    "Finally, return a short <summary> based on the <sketchpad>.\n",
    "\n",
    "Write the answer in {summary_language}\n",
    "\n",
    "Don't hallucinate. Don't make up truthful information.\n",
    "\"\"\"\n",
    "\n",
    "completion = BedrockClient.invoke_model(MODEL_ID, system_prompt=\"\", user_prompt=SUMARIZATION_PROMPT)\n",
    "\n",
    "response_text = completion.get(\"content\")[0][\"text\"]\n",
    "print(response_text)"
   ]
  },
  {
   "cell_type": "code",
   "execution_count": 10,
   "metadata": {},
   "outputs": [],
   "source": [
    "from gtts import gTTS\n",
    "import re\n",
    "\n",
    "def test(text, language='en', slow=False):\n",
    "    speech = gTTS(text=text, lang=language, slow=slow)\n",
    "    speech_file = 'speech.mp3'\n",
    "    speech.save(speech_file)\n",
    "    # Play the audio file\n",
    "    os.system('afplay ' + speech_file)"
   ]
  },
  {
   "cell_type": "code",
   "execution_count": 12,
   "metadata": {},
   "outputs": [
    {
     "name": "stdout",
     "output_type": "stream",
     "text": [
      "En esta reunión se explicó el proceso paso a paso para agregar una nueva creatividad en la plataforma AdVendio. El proceso incluye iniciar sesión, seleccionar una campaña existente, agregar una nueva creatividad, configurar los detalles de la creatividad (tamaño, nombre, URL de destino) y finalmente enviar la creatividad a moderación.\n"
     ]
    }
   ],
   "source": [
    "# match = re.search(r'<summary>(.*?)</summary>', response_text, re.DOTALL)\n",
    "# if match:\n",
    "#     summary_text = match.group(1).strip()\n",
    "#     print(summary_text)\n",
    "# test(text=summary_text,language='es')"
   ]
  }
 ],
 "metadata": {
  "kernelspec": {
   "display_name": ".venv",
   "language": "python",
   "name": "python3"
  },
  "language_info": {
   "codemirror_mode": {
    "name": "ipython",
    "version": 3
   },
   "file_extension": ".py",
   "mimetype": "text/x-python",
   "name": "python",
   "nbconvert_exporter": "python",
   "pygments_lexer": "ipython3",
   "version": "3.9.18"
  }
 },
 "nbformat": 4,
 "nbformat_minor": 2
}
